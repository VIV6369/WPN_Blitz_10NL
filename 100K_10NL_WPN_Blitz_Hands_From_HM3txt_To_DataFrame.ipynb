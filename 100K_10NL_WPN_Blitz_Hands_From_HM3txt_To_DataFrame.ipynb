{
 "cells": [
  {
   "cell_type": "code",
   "execution_count": 30,
   "id": "3f90c7ce",
   "metadata": {},
   "outputs": [],
   "source": [
    "import pandas as pd\n",
    "import numpy as np"
   ]
  },
  {
   "cell_type": "code",
   "execution_count": 31,
   "id": "1f5d50db",
   "metadata": {},
   "outputs": [
    {
     "name": "stdout",
     "output_type": "stream",
     "text": [
      "1426677014\n"
     ]
    }
   ],
   "source": [
    "#Hands numbers\n",
    "hands_num = []\n",
    "with open('MyHM3Database.2022-10-27-11-24-04.WPN.Hand1-100000.txt') as data:\n",
    "    for line in data.readlines():\n",
    "        if 'Holdem(No Limit) - $0.05/$0.10' in line:\n",
    "            hands_num.append(line[6:16])\n",
    "print(hands_num[-1])     \n",
    "data.close()"
   ]
  },
  {
   "cell_type": "code",
   "execution_count": 32,
   "id": "7119f976",
   "metadata": {},
   "outputs": [
    {
     "name": "stdout",
     "output_type": "stream",
     "text": [
      "2022/10/27\n"
     ]
    }
   ],
   "source": [
    "#Hands date\n",
    "hand_date = []\n",
    "with open('MyHM3Database.2022-10-27-11-24-04.WPN.Hand1-100000.txt') as data:\n",
    "    for line in data.readlines():\n",
    "        if 'Holdem(No Limit) - $0.05/$0.10' in line:\n",
    "            hand_date.append(line[52:62])\n",
    "print(hand_date[-1])    \n",
    "data.close()"
   ]
  },
  {
   "cell_type": "code",
   "execution_count": 33,
   "id": "1f3680d9",
   "metadata": {},
   "outputs": [
    {
     "name": "stdout",
     "output_type": "stream",
     "text": [
      "['15:17:05', '15:17:06', '15:17:10', '15:17:10', '15:17:26', '15:17:35', '15:17:38', '15:17:41', '15:17:51', '15:17:53']\n",
      "100000\n"
     ]
    }
   ],
   "source": [
    "#Hands time\n",
    "hand_time = []\n",
    "with open('MyHM3Database.2022-10-27-11-24-04.WPN.Hand1-100000.txt') as data:\n",
    "    for line in data.readlines():\n",
    "        if 'Holdem(No Limit) - $0.05/$0.10' in line:\n",
    "            hand_time.append(line[63:71])\n",
    "print(hand_time[0:10])   \n",
    "print(len(hand_time))\n",
    "data.close()"
   ]
  },
  {
   "cell_type": "code",
   "execution_count": 61,
   "id": "7ddf08c6",
   "metadata": {},
   "outputs": [
    {
     "name": "stdout",
     "output_type": "stream",
     "text": [
      "Vadims ($19.83)\n"
     ]
    }
   ],
   "source": [
    "#Button player name and his stack\n",
    "btn = []\n",
    "with open('MyHM3Database.2022-10-27-11-24-04.WPN.Hand1-100000.txt') as data:\n",
    "    for line in data.readlines():\n",
    "        if 'Seat 1:' in line and len(line) < 41 and 'did not show and won' not in line and 'folded on the' not in line:\n",
    "            btn.append(line[8:].strip('\\n'))\n",
    "    \n",
    "print(btn[0])\n",
    "data.close()"
   ]
  },
  {
   "cell_type": "code",
   "execution_count": 64,
   "id": "8af8b5a2",
   "metadata": {},
   "outputs": [
    {
     "name": "stdout",
     "output_type": "stream",
     "text": [
      "JD2787 ($10.84)\n"
     ]
    }
   ],
   "source": [
    "#Small blind player name and his stack\n",
    "sb = []\n",
    "with open('MyHM3Database.2022-10-27-11-24-04.WPN.Hand1-100000.txt') as data:\n",
    "    for line in data.readlines():\n",
    "        if 'Seat 2:' in line and len(line) < 41 and 'did not show and won' not in line and 'folded on the' not in line:\n",
    "            sb.append(line[8:].strip('\\n'))\n",
    "    \n",
    "print(sb[0])\n",
    "data.close()"
   ]
  },
  {
   "cell_type": "code",
   "execution_count": 67,
   "id": "814dbbfc",
   "metadata": {},
   "outputs": [
    {
     "name": "stdout",
     "output_type": "stream",
     "text": [
      "decadegolfpro ($10.00)\n"
     ]
    }
   ],
   "source": [
    "#Big blind player name and his stack\n",
    "bb = []\n",
    "with open('MyHM3Database.2022-10-27-11-24-04.WPN.Hand1-100000.txt') as data:\n",
    "    for line in data.readlines():\n",
    "        if 'Seat 3:' in line and len(line) < 41 and 'did not show and won' not in line and 'folded on the' not in line:\n",
    "            bb.append(line[8:].strip('\\n'))\n",
    "    \n",
    "print(bb[0])\n",
    "data.close()"
   ]
  },
  {
   "cell_type": "code",
   "execution_count": 68,
   "id": "eace9e29",
   "metadata": {},
   "outputs": [
    {
     "name": "stdout",
     "output_type": "stream",
     "text": [
      "SimplySam ($24.77)\n"
     ]
    }
   ],
   "source": [
    "#UTG player name and his stack\n",
    "utg = []\n",
    "with open('MyHM3Database.2022-10-27-11-24-04.WPN.Hand1-100000.txt') as data:\n",
    "    for line in data.readlines():\n",
    "        if 'Seat 4:' in line and len(line) < 41 and 'did not show and won' not in line and 'folded on the' not in line:\n",
    "            utg.append(line[8:].strip('\\n'))\n",
    "    \n",
    "print(utg[0])\n",
    "data.close()"
   ]
  },
  {
   "cell_type": "code",
   "execution_count": 69,
   "id": "de4cab4c",
   "metadata": {},
   "outputs": [
    {
     "name": "stdout",
     "output_type": "stream",
     "text": [
      "BlackSabbat ($10.00)\n"
     ]
    }
   ],
   "source": [
    "#MP player name and his stack\n",
    "mp = []\n",
    "with open('MyHM3Database.2022-10-27-11-24-04.WPN.Hand1-100000.txt') as data:\n",
    "    for line in data.readlines():\n",
    "        if 'Seat 5:' in line and len(line) < 41 and 'did not show and won' not in line and 'folded on the' not in line:\n",
    "            mp.append(line[8:].strip('\\n'))\n",
    "    \n",
    "print(mp[0])\n",
    "data.close()"
   ]
  },
  {
   "cell_type": "code",
   "execution_count": 70,
   "id": "33a5243b",
   "metadata": {},
   "outputs": [
    {
     "name": "stdout",
     "output_type": "stream",
     "text": [
      "EnNoctem ($10.38)\n"
     ]
    }
   ],
   "source": [
    "#CO player name and his stack\n",
    "co = []\n",
    "with open('MyHM3Database.2022-10-27-11-24-04.WPN.Hand1-100000.txt') as data:\n",
    "    for line in data.readlines():\n",
    "        if 'Seat 6:' in line and len(line) < 41 and 'did not show and won' not in line and 'folded on the' not in line:\n",
    "            co.append(line[8:].strip('\\n'))\n",
    "    \n",
    "print(co[0])\n",
    "data.close()"
   ]
  },
  {
   "cell_type": "code",
   "execution_count": 40,
   "id": "5ee5b1b8",
   "metadata": {},
   "outputs": [
    {
     "name": "stdout",
     "output_type": "stream",
     "text": [
      "100000\n"
     ]
    }
   ],
   "source": [
    "#Vadims Hole cards\n",
    "hole_cards = []\n",
    "with open('MyHM3Database.2022-10-27-11-24-04.WPN.Hand1-100000.txt') as data:\n",
    "    for line in data.readlines():\n",
    "        if 'Dealt to Vadims' in line:\n",
    "            hole_cards.append(line[17:22])\n",
    "    \n",
    "print(len(hole_cards))\n",
    "data.close()"
   ]
  },
  {
   "cell_type": "code",
   "execution_count": 41,
   "id": "d11de3e0",
   "metadata": {},
   "outputs": [
    {
     "name": "stdout",
     "output_type": "stream",
     "text": [
      "100000\n"
     ]
    }
   ],
   "source": [
    "#Preflop action UTG\n",
    "preflop_action_utg = []\n",
    "with open('MyHM3Database.2022-10-27-11-24-04.WPN.Hand1-100000.txt') as data:\n",
    "    for line in data:\n",
    "        if 'Dealt to Vadims' in line:\n",
    "            preflop_action_utg.append(next(data).strip('\\n'))\n",
    "            \n",
    "print(len(preflop_action_utg))\n",
    "data.close()"
   ]
  },
  {
   "cell_type": "code",
   "execution_count": 42,
   "id": "249adc7d",
   "metadata": {},
   "outputs": [
    {
     "name": "stdout",
     "output_type": "stream",
     "text": [
      "100000\n"
     ]
    }
   ],
   "source": [
    "#Preflop action MP\n",
    "preflop_action_mp = []\n",
    "with open('MyHM3Database.2022-10-27-11-24-04.WPN.Hand1-100000.txt') as data:\n",
    "    for line in data:\n",
    "        if 'Dealt to Vadims' in line:\n",
    "            utg = next(data)\n",
    "            preflop_action_mp.append(next(data).strip('\\n'))\n",
    "            \n",
    "print(len(preflop_action_mp))\n",
    "data.close()"
   ]
  },
  {
   "cell_type": "code",
   "execution_count": 43,
   "id": "c009bb90",
   "metadata": {},
   "outputs": [
    {
     "name": "stdout",
     "output_type": "stream",
     "text": [
      "100000\n"
     ]
    }
   ],
   "source": [
    "#Preflop action CO\n",
    "preflop_action_co = []\n",
    "with open('MyHM3Database.2022-10-27-11-24-04.WPN.Hand1-100000.txt') as data:\n",
    "    for line in data:\n",
    "        if 'Dealt to Vadims' in line:\n",
    "            utg = next(data)\n",
    "            mp = next(data)\n",
    "            preflop_action_co.append(next(data).strip('\\n'))\n",
    "            \n",
    "print(len(preflop_action_co))\n",
    "data.close()"
   ]
  },
  {
   "cell_type": "code",
   "execution_count": 44,
   "id": "9dfbc265",
   "metadata": {},
   "outputs": [
    {
     "name": "stdout",
     "output_type": "stream",
     "text": [
      "100000\n"
     ]
    }
   ],
   "source": [
    "#Preflop action BTN\n",
    "preflop_action_btn = []\n",
    "with open('MyHM3Database.2022-10-27-11-24-04.WPN.Hand1-100000.txt') as data:\n",
    "    for line in data:\n",
    "        if 'Dealt to Vadims' in line:\n",
    "            utg = next(data)\n",
    "            mp = next(data)\n",
    "            co = next(data)\n",
    "            preflop_action_btn.append(next(data).strip('\\n'))\n",
    "            \n",
    "print(len(preflop_action_btn))\n",
    "data.close()"
   ]
  },
  {
   "cell_type": "code",
   "execution_count": 45,
   "id": "aa8a8838",
   "metadata": {},
   "outputs": [
    {
     "name": "stdout",
     "output_type": "stream",
     "text": [
      "100000\n"
     ]
    }
   ],
   "source": [
    "#Preflop action SB\n",
    "preflop_action_sb = []\n",
    "with open('MyHM3Database.2022-10-27-11-24-04.WPN.Hand1-100000.txt') as data:\n",
    "    for line in data:\n",
    "        if 'Dealt to Vadims' in line:\n",
    "            utg = next(data)\n",
    "            mp = next(data)\n",
    "            co = next(data)\n",
    "            btn = next(data)\n",
    "            preflop_action_sb.append(next(data).strip('\\n'))\n",
    "            \n",
    "print(len(preflop_action_sb))\n",
    "data.close()"
   ]
  },
  {
   "cell_type": "code",
   "execution_count": 46,
   "id": "8686c212",
   "metadata": {},
   "outputs": [
    {
     "name": "stdout",
     "output_type": "stream",
     "text": [
      "100000\n"
     ]
    }
   ],
   "source": [
    "#Preflop action BB\n",
    "preflop_action_bb = []\n",
    "with open('MyHM3Database.2022-10-27-11-24-04.WPN.Hand1-100000.txt') as data:\n",
    "    for line in data:\n",
    "        if 'Dealt to Vadims' in line:\n",
    "            utg = next(data)\n",
    "            mp = next(data)\n",
    "            co = next(data)\n",
    "            btn = next(data)\n",
    "            sb = next(data)\n",
    "            preflop_action_bb.append(next(data).strip('\\n'))\n",
    "            \n",
    "print(len(preflop_action_bb))\n",
    "data.close()"
   ]
  },
  {
   "cell_type": "code",
   "execution_count": 47,
   "id": "11b543ae",
   "metadata": {},
   "outputs": [
    {
     "name": "stdout",
     "output_type": "stream",
     "text": [
      "100000\n",
      "['5s 5c 6s', None, 'Qc 6s 9s', '3d Jc 2s', '4h Ks Jc', None, None, '8s 4h Qc']\n"
     ]
    }
   ],
   "source": [
    "#Flop\n",
    "flop = []\n",
    "with open('MyHM3Database.2022-10-27-11-24-04.WPN.Hand1-100000.txt') as data:\n",
    "    for line in data:\n",
    "        if '*** SUMMARY ***' in line:\n",
    "            tp = next(data)\n",
    "            bo_s1 = next(data)\n",
    "            if 'Board' in bo_s1:\n",
    "                flop.append(bo_s1[7:15])\n",
    "            else:\n",
    "                flop.append(None)\n",
    "\n",
    "print(len(flop))\n",
    "print(flop[0:8])\n",
    "data.close()"
   ]
  },
  {
   "cell_type": "code",
   "execution_count": 48,
   "id": "7e6a05be",
   "metadata": {},
   "outputs": [
    {
     "name": "stdout",
     "output_type": "stream",
     "text": [
      "100000\n",
      "['5s 5c 6s 6h Qh', None, 'Qc 6s 9s 2c', '3d Jc 2s 4d', '4h Ks Jc 6c', None, None, '8s 4h Qc 5c']\n"
     ]
    }
   ],
   "source": [
    "# Final board\n",
    "board = []\n",
    "with open('MyHM3Database.2022-10-27-11-24-04.WPN.Hand1-100000.txt') as data:\n",
    "    for line in data:\n",
    "        if 'Total pot' in line:\n",
    "            b = next(data)\n",
    "            if 'Board' in b:\n",
    "                board.append(b[7:21].strip(' ').strip(']\\n'))\n",
    "            else:\n",
    "                board.append(None)\n",
    "            \n",
    "\n",
    "    \n",
    "print(len(board))\n",
    "print(board[0:8])\n",
    "data.close()"
   ]
  },
  {
   "cell_type": "code",
   "execution_count": 49,
   "id": "ef13d8c9",
   "metadata": {},
   "outputs": [
    {
     "name": "stdout",
     "output_type": "stream",
     "text": [
      "100000\n"
     ]
    }
   ],
   "source": [
    "#Total pot\n",
    "total_pot = []\n",
    "with open('MyHM3Database.2022-10-27-11-24-04.WPN.Hand1-100000.txt') as data:\n",
    "    for line in data:\n",
    "        if 'Total pot' in line:\n",
    "            total_pot.append(line[11:16].strip('\\n').strip(' '))\n",
    "            \n",
    "print(len(total_pot))\n",
    "data.close()     "
   ]
  },
  {
   "cell_type": "code",
   "execution_count": 50,
   "id": "1ae1fd62",
   "metadata": {},
   "outputs": [
    {
     "name": "stdout",
     "output_type": "stream",
     "text": [
      "100000\n",
      "['0', '0.78', '0.10 ', '0', '0', '0', '0', '0.02', '0', '0.06 ']\n"
     ]
    }
   ],
   "source": [
    "#Rake\n",
    "rake = []\n",
    "with open('MyHM3Database.2022-10-27-11-24-04.WPN.Hand1-100000.txt') as data:\n",
    "    for line in data:\n",
    "        if 'Total pot' in line and len(line) > 17:\n",
    "            rake.append(line[24:29].strip('$').strip('\\n'))\n",
    "        elif 'Total pot' in line and len(line) < 17:\n",
    "            rake.append(\"0\")\n",
    "            \n",
    "            \n",
    "print(len(rake))\n",
    "print(rake[10:20])\n",
    "data.close()"
   ]
  },
  {
   "cell_type": "code",
   "execution_count": 71,
   "id": "bb8cff65",
   "metadata": {},
   "outputs": [],
   "source": [
    "wpn_blitz = pd.DataFrame({\n",
    "    'hand_num': hands_num,\n",
    "    'hand_date': hand_date,\n",
    "    'hand_time': hand_time,\n",
    "    'btn': btn,\n",
    "    'sb': sb,\n",
    "    'bb': bb,\n",
    "    'utg': utg,\n",
    "    'mp': mp,\n",
    "    'co': co,\n",
    "    'hole_cards': hole_cards,\n",
    "    'preflop_action_utg': preflop_action_utg,\n",
    "    'preflop_action_mp': preflop_action_mp,\n",
    "    'preflop_action_co': preflop_action_co,\n",
    "    'preflop_action_btn': preflop_action_btn,\n",
    "    'preflop_action_sb': preflop_action_sb,\n",
    "    'preflop_action_bb': preflop_action_bb,\n",
    "    'flop':flop,\n",
    "    'board': board,\n",
    "    'total_pot': total_pot,\n",
    "    'rake': rake\n",
    "    \n",
    "})"
   ]
  },
  {
   "cell_type": "code",
   "execution_count": 72,
   "id": "bf0b6703",
   "metadata": {},
   "outputs": [
    {
     "data": {
      "text/html": [
       "<div>\n",
       "<style scoped>\n",
       "    .dataframe tbody tr th:only-of-type {\n",
       "        vertical-align: middle;\n",
       "    }\n",
       "\n",
       "    .dataframe tbody tr th {\n",
       "        vertical-align: top;\n",
       "    }\n",
       "\n",
       "    .dataframe thead th {\n",
       "        text-align: right;\n",
       "    }\n",
       "</style>\n",
       "<table border=\"1\" class=\"dataframe\">\n",
       "  <thead>\n",
       "    <tr style=\"text-align: right;\">\n",
       "      <th></th>\n",
       "      <th>hand_num</th>\n",
       "      <th>hand_date</th>\n",
       "      <th>hand_time</th>\n",
       "      <th>btn</th>\n",
       "      <th>sb</th>\n",
       "      <th>bb</th>\n",
       "      <th>utg</th>\n",
       "      <th>mp</th>\n",
       "      <th>co</th>\n",
       "      <th>hole_cards</th>\n",
       "      <th>preflop_action_utg</th>\n",
       "      <th>preflop_action_mp</th>\n",
       "      <th>preflop_action_co</th>\n",
       "      <th>preflop_action_btn</th>\n",
       "      <th>preflop_action_sb</th>\n",
       "      <th>preflop_action_bb</th>\n",
       "      <th>flop</th>\n",
       "      <th>board</th>\n",
       "      <th>total_pot</th>\n",
       "      <th>rake</th>\n",
       "    </tr>\n",
       "  </thead>\n",
       "  <tbody>\n",
       "    <tr>\n",
       "      <th>0</th>\n",
       "      <td>1150880976</td>\n",
       "      <td>2022/03/10</td>\n",
       "      <td>15:17:05</td>\n",
       "      <td>Vadims ($19.83)</td>\n",
       "      <td>JD2787 ($10.84)</td>\n",
       "      <td>decadegolfpro ($10.00)</td>\n",
       "      <td>SimplySam ($24.77)</td>\n",
       "      <td>BlackSabbat ($10.00)</td>\n",
       "      <td>EnNoctem ($10.38)</td>\n",
       "      <td>Ad Ks</td>\n",
       "      <td>SimplySam folds</td>\n",
       "      <td>BlackSabbat folds</td>\n",
       "      <td>EnNoctem raises $0.25 to $0.25</td>\n",
       "      <td>Vadims raises $0.69 to $0.69</td>\n",
       "      <td>JD2787 folds</td>\n",
       "      <td>decadegolfpro folds</td>\n",
       "      <td>5s 5c 6s</td>\n",
       "      <td>5s 5c 6s 6h Qh</td>\n",
       "      <td>3.45</td>\n",
       "      <td>0.12</td>\n",
       "    </tr>\n",
       "    <tr>\n",
       "      <th>1</th>\n",
       "      <td>1150880987</td>\n",
       "      <td>2022/03/10</td>\n",
       "      <td>15:17:06</td>\n",
       "      <td>Woods1 ($27.30)</td>\n",
       "      <td>Fgawarenu ($16.74)</td>\n",
       "      <td>MNE_NALEZET ($11.25)</td>\n",
       "      <td>Vadims ($18.93)</td>\n",
       "      <td>ottibott93 ($18.80)</td>\n",
       "      <td>LO0S3R ($22.53)</td>\n",
       "      <td>3h 2c</td>\n",
       "      <td>Vadims folds</td>\n",
       "      <td>ottibott93 folds</td>\n",
       "      <td>LO0S3R folds</td>\n",
       "      <td>Woods1 folds</td>\n",
       "      <td>Fgawarenu folds</td>\n",
       "      <td>MNE_NALEZET does not show</td>\n",
       "      <td>None</td>\n",
       "      <td>None</td>\n",
       "      <td>0.15</td>\n",
       "      <td>0</td>\n",
       "    </tr>\n",
       "    <tr>\n",
       "      <th>2</th>\n",
       "      <td>1150881023</td>\n",
       "      <td>2022/03/10</td>\n",
       "      <td>15:17:10</td>\n",
       "      <td>Vadims ($23.52)</td>\n",
       "      <td>yahiindahouse ($24.62)</td>\n",
       "      <td>Fgawarenu ($12.94)</td>\n",
       "      <td>LO0S3R ($22.53)</td>\n",
       "      <td>MarkesanMike ($9.74)</td>\n",
       "      <td>whyraise ($38.58)</td>\n",
       "      <td>4d 4c</td>\n",
       "      <td>LO0S3R folds</td>\n",
       "      <td>MarkesanMike folds</td>\n",
       "      <td>whyraise raises $0.25 to $0.25</td>\n",
       "      <td>Vadims calls $0.25</td>\n",
       "      <td>yahiindahouse folds</td>\n",
       "      <td>Fgawarenu folds</td>\n",
       "      <td>Qc 6s 9s</td>\n",
       "      <td>Qc 6s 9s 2c</td>\n",
       "      <td>0.62</td>\n",
       "      <td>0.03</td>\n",
       "    </tr>\n",
       "    <tr>\n",
       "      <th>3</th>\n",
       "      <td>1150881025</td>\n",
       "      <td>2022/03/10</td>\n",
       "      <td>15:17:10</td>\n",
       "      <td>oO00Oo ($10.00)</td>\n",
       "      <td>Vadims ($18.93)</td>\n",
       "      <td>HillBelly ($7.66)</td>\n",
       "      <td>apeaces ($10.43)</td>\n",
       "      <td>prib ($23.63)</td>\n",
       "      <td>Dieselme ($12.19)</td>\n",
       "      <td>3h Qd</td>\n",
       "      <td>apeaces folds</td>\n",
       "      <td>prib calls $0.10</td>\n",
       "      <td>Dieselme folds</td>\n",
       "      <td>oO00Oo folds</td>\n",
       "      <td>Vadims folds</td>\n",
       "      <td>HillBelly checks</td>\n",
       "      <td>3d Jc 2s</td>\n",
       "      <td>3d Jc 2s 4d</td>\n",
       "      <td>0.24</td>\n",
       "      <td>0.01</td>\n",
       "    </tr>\n",
       "    <tr>\n",
       "      <th>4</th>\n",
       "      <td>1150881151</td>\n",
       "      <td>2022/03/10</td>\n",
       "      <td>15:17:26</td>\n",
       "      <td>Vadims ($18.88)</td>\n",
       "      <td>LO0S3R ($22.53)</td>\n",
       "      <td>oO00Oo ($11.09)</td>\n",
       "      <td>stackshady ($12.52)</td>\n",
       "      <td>EugeneBasegame ($10.15)</td>\n",
       "      <td>chrisbee11 ($7.73)</td>\n",
       "      <td>5h Kc</td>\n",
       "      <td>stackshady folds</td>\n",
       "      <td>EugeneBasegame raises $0.20 to $0.20</td>\n",
       "      <td>chrisbee11 calls $0.20</td>\n",
       "      <td>Vadims folds</td>\n",
       "      <td>LO0S3R folds</td>\n",
       "      <td>oO00Oo folds</td>\n",
       "      <td>4h Ks Jc</td>\n",
       "      <td>4h Ks Jc 6c</td>\n",
       "      <td>0.53</td>\n",
       "      <td>0.02</td>\n",
       "    </tr>\n",
       "  </tbody>\n",
       "</table>\n",
       "</div>"
      ],
      "text/plain": [
       "     hand_num   hand_date hand_time              btn                      sb  \\\n",
       "0  1150880976  2022/03/10  15:17:05  Vadims ($19.83)         JD2787 ($10.84)   \n",
       "1  1150880987  2022/03/10  15:17:06  Woods1 ($27.30)      Fgawarenu ($16.74)   \n",
       "2  1150881023  2022/03/10  15:17:10  Vadims ($23.52)  yahiindahouse ($24.62)   \n",
       "3  1150881025  2022/03/10  15:17:10  oO00Oo ($10.00)         Vadims ($18.93)   \n",
       "4  1150881151  2022/03/10  15:17:26  Vadims ($18.88)         LO0S3R ($22.53)   \n",
       "\n",
       "                       bb                  utg                       mp  \\\n",
       "0  decadegolfpro ($10.00)   SimplySam ($24.77)     BlackSabbat ($10.00)   \n",
       "1    MNE_NALEZET ($11.25)      Vadims ($18.93)      ottibott93 ($18.80)   \n",
       "2      Fgawarenu ($12.94)      LO0S3R ($22.53)     MarkesanMike ($9.74)   \n",
       "3       HillBelly ($7.66)     apeaces ($10.43)            prib ($23.63)   \n",
       "4         oO00Oo ($11.09)  stackshady ($12.52)  EugeneBasegame ($10.15)   \n",
       "\n",
       "                   co hole_cards preflop_action_utg  \\\n",
       "0   EnNoctem ($10.38)      Ad Ks    SimplySam folds   \n",
       "1     LO0S3R ($22.53)      3h 2c       Vadims folds   \n",
       "2   whyraise ($38.58)      4d 4c       LO0S3R folds   \n",
       "3   Dieselme ($12.19)      3h Qd      apeaces folds   \n",
       "4  chrisbee11 ($7.73)      5h Kc   stackshady folds   \n",
       "\n",
       "                      preflop_action_mp               preflop_action_co  \\\n",
       "0                     BlackSabbat folds  EnNoctem raises $0.25 to $0.25   \n",
       "1                      ottibott93 folds                    LO0S3R folds   \n",
       "2                    MarkesanMike folds  whyraise raises $0.25 to $0.25   \n",
       "3                      prib calls $0.10                  Dieselme folds   \n",
       "4  EugeneBasegame raises $0.20 to $0.20          chrisbee11 calls $0.20   \n",
       "\n",
       "             preflop_action_btn    preflop_action_sb  \\\n",
       "0  Vadims raises $0.69 to $0.69         JD2787 folds   \n",
       "1                  Woods1 folds      Fgawarenu folds   \n",
       "2            Vadims calls $0.25  yahiindahouse folds   \n",
       "3                  oO00Oo folds         Vadims folds   \n",
       "4                  Vadims folds         LO0S3R folds   \n",
       "\n",
       "           preflop_action_bb      flop           board total_pot   rake  \n",
       "0        decadegolfpro folds  5s 5c 6s  5s 5c 6s 6h Qh      3.45  0.12   \n",
       "1  MNE_NALEZET does not show      None            None      0.15      0  \n",
       "2            Fgawarenu folds  Qc 6s 9s     Qc 6s 9s 2c      0.62   0.03  \n",
       "3           HillBelly checks  3d Jc 2s     3d Jc 2s 4d      0.24   0.01  \n",
       "4               oO00Oo folds  4h Ks Jc     4h Ks Jc 6c      0.53   0.02  "
      ]
     },
     "execution_count": 72,
     "metadata": {},
     "output_type": "execute_result"
    }
   ],
   "source": [
    "wpn_blitz.head()"
   ]
  },
  {
   "cell_type": "code",
   "execution_count": 73,
   "id": "ebb4db93",
   "metadata": {},
   "outputs": [
    {
     "name": "stdout",
     "output_type": "stream",
     "text": [
      "<class 'pandas.core.frame.DataFrame'>\n",
      "RangeIndex: 100000 entries, 0 to 99999\n",
      "Data columns (total 20 columns):\n",
      " #   Column              Non-Null Count   Dtype \n",
      "---  ------              --------------   ----- \n",
      " 0   hand_num            100000 non-null  object\n",
      " 1   hand_date           100000 non-null  object\n",
      " 2   hand_time           100000 non-null  object\n",
      " 3   btn                 100000 non-null  object\n",
      " 4   sb                  100000 non-null  object\n",
      " 5   bb                  100000 non-null  object\n",
      " 6   utg                 100000 non-null  object\n",
      " 7   mp                  100000 non-null  object\n",
      " 8   co                  100000 non-null  object\n",
      " 9   hole_cards          100000 non-null  object\n",
      " 10  preflop_action_utg  100000 non-null  object\n",
      " 11  preflop_action_mp   100000 non-null  object\n",
      " 12  preflop_action_co   100000 non-null  object\n",
      " 13  preflop_action_btn  100000 non-null  object\n",
      " 14  preflop_action_sb   100000 non-null  object\n",
      " 15  preflop_action_bb   100000 non-null  object\n",
      " 16  flop                40394 non-null   object\n",
      " 17  board               40394 non-null   object\n",
      " 18  total_pot           100000 non-null  object\n",
      " 19  rake                100000 non-null  object\n",
      "dtypes: object(20)\n",
      "memory usage: 15.3+ MB\n"
     ]
    }
   ],
   "source": [
    "wpn_blitz.info()"
   ]
  },
  {
   "cell_type": "code",
   "execution_count": 74,
   "id": "41fc3943",
   "metadata": {},
   "outputs": [],
   "source": [
    "#Convert total_pot to numeric\n",
    "wpn_blitz['total_pot'] = pd.to_numeric(wpn_blitz.total_pot)\n",
    "\n",
    "#Convert rake to numeric\n",
    "wpn_blitz['rake'] = pd.to_numeric(wpn_blitz.rake)"
   ]
  },
  {
   "cell_type": "code",
   "execution_count": 75,
   "id": "abe9649f",
   "metadata": {},
   "outputs": [],
   "source": [
    "#Convert date to datetime format\n",
    "wpn_blitz.hand_date = pd.to_datetime(wpn_blitz.hand_date)\n",
    "#Convert time to datetime format\n",
    "wpn_blitz.hand_time = pd.to_datetime(wpn_blitz.hand_time).dt.time"
   ]
  },
  {
   "cell_type": "code",
   "execution_count": 76,
   "id": "3f7d6215",
   "metadata": {},
   "outputs": [
    {
     "name": "stdout",
     "output_type": "stream",
     "text": [
      "<class 'pandas.core.frame.DataFrame'>\n",
      "RangeIndex: 100000 entries, 0 to 99999\n",
      "Data columns (total 20 columns):\n",
      " #   Column              Non-Null Count   Dtype         \n",
      "---  ------              --------------   -----         \n",
      " 0   hand_num            100000 non-null  object        \n",
      " 1   hand_date           100000 non-null  datetime64[ns]\n",
      " 2   hand_time           100000 non-null  object        \n",
      " 3   btn                 100000 non-null  object        \n",
      " 4   sb                  100000 non-null  object        \n",
      " 5   bb                  100000 non-null  object        \n",
      " 6   utg                 100000 non-null  object        \n",
      " 7   mp                  100000 non-null  object        \n",
      " 8   co                  100000 non-null  object        \n",
      " 9   hole_cards          100000 non-null  object        \n",
      " 10  preflop_action_utg  100000 non-null  object        \n",
      " 11  preflop_action_mp   100000 non-null  object        \n",
      " 12  preflop_action_co   100000 non-null  object        \n",
      " 13  preflop_action_btn  100000 non-null  object        \n",
      " 14  preflop_action_sb   100000 non-null  object        \n",
      " 15  preflop_action_bb   100000 non-null  object        \n",
      " 16  flop                40394 non-null   object        \n",
      " 17  board               40394 non-null   object        \n",
      " 18  total_pot           100000 non-null  float64       \n",
      " 19  rake                100000 non-null  float64       \n",
      "dtypes: datetime64[ns](1), float64(2), object(17)\n",
      "memory usage: 15.3+ MB\n"
     ]
    }
   ],
   "source": [
    "wpn_blitz.info()"
   ]
  },
  {
   "cell_type": "code",
   "execution_count": 80,
   "id": "707001f1",
   "metadata": {},
   "outputs": [
    {
     "data": {
      "text/html": [
       "<div>\n",
       "<style scoped>\n",
       "    .dataframe tbody tr th:only-of-type {\n",
       "        vertical-align: middle;\n",
       "    }\n",
       "\n",
       "    .dataframe tbody tr th {\n",
       "        vertical-align: top;\n",
       "    }\n",
       "\n",
       "    .dataframe thead th {\n",
       "        text-align: right;\n",
       "    }\n",
       "</style>\n",
       "<table border=\"1\" class=\"dataframe\">\n",
       "  <thead>\n",
       "    <tr style=\"text-align: right;\">\n",
       "      <th></th>\n",
       "      <th>hand_date</th>\n",
       "      <th>hand_time</th>\n",
       "      <th>btn</th>\n",
       "      <th>sb</th>\n",
       "      <th>bb</th>\n",
       "      <th>utg</th>\n",
       "      <th>mp</th>\n",
       "      <th>co</th>\n",
       "      <th>hole_cards</th>\n",
       "      <th>preflop_action_utg</th>\n",
       "      <th>preflop_action_mp</th>\n",
       "      <th>preflop_action_co</th>\n",
       "      <th>preflop_action_btn</th>\n",
       "      <th>preflop_action_sb</th>\n",
       "      <th>preflop_action_bb</th>\n",
       "      <th>flop</th>\n",
       "      <th>board</th>\n",
       "      <th>total_pot</th>\n",
       "      <th>rake</th>\n",
       "    </tr>\n",
       "    <tr>\n",
       "      <th>hand_num</th>\n",
       "      <th></th>\n",
       "      <th></th>\n",
       "      <th></th>\n",
       "      <th></th>\n",
       "      <th></th>\n",
       "      <th></th>\n",
       "      <th></th>\n",
       "      <th></th>\n",
       "      <th></th>\n",
       "      <th></th>\n",
       "      <th></th>\n",
       "      <th></th>\n",
       "      <th></th>\n",
       "      <th></th>\n",
       "      <th></th>\n",
       "      <th></th>\n",
       "      <th></th>\n",
       "      <th></th>\n",
       "      <th></th>\n",
       "    </tr>\n",
       "  </thead>\n",
       "  <tbody>\n",
       "    <tr>\n",
       "      <th>1150880976</th>\n",
       "      <td>2022-03-10</td>\n",
       "      <td>15:17:05</td>\n",
       "      <td>Vadims ($19.83)</td>\n",
       "      <td>JD2787 ($10.84)</td>\n",
       "      <td>decadegolfpro ($10.00)</td>\n",
       "      <td>SimplySam ($24.77)</td>\n",
       "      <td>BlackSabbat ($10.00)</td>\n",
       "      <td>EnNoctem ($10.38)</td>\n",
       "      <td>Ad Ks</td>\n",
       "      <td>SimplySam folds</td>\n",
       "      <td>BlackSabbat folds</td>\n",
       "      <td>EnNoctem raises $0.25 to $0.25</td>\n",
       "      <td>Vadims raises $0.69 to $0.69</td>\n",
       "      <td>JD2787 folds</td>\n",
       "      <td>decadegolfpro folds</td>\n",
       "      <td>5s 5c 6s</td>\n",
       "      <td>5s 5c 6s 6h Qh</td>\n",
       "      <td>3.45</td>\n",
       "      <td>0.12</td>\n",
       "    </tr>\n",
       "    <tr>\n",
       "      <th>1150880987</th>\n",
       "      <td>2022-03-10</td>\n",
       "      <td>15:17:06</td>\n",
       "      <td>Woods1 ($27.30)</td>\n",
       "      <td>Fgawarenu ($16.74)</td>\n",
       "      <td>MNE_NALEZET ($11.25)</td>\n",
       "      <td>Vadims ($18.93)</td>\n",
       "      <td>ottibott93 ($18.80)</td>\n",
       "      <td>LO0S3R ($22.53)</td>\n",
       "      <td>3h 2c</td>\n",
       "      <td>Vadims folds</td>\n",
       "      <td>ottibott93 folds</td>\n",
       "      <td>LO0S3R folds</td>\n",
       "      <td>Woods1 folds</td>\n",
       "      <td>Fgawarenu folds</td>\n",
       "      <td>MNE_NALEZET does not show</td>\n",
       "      <td>None</td>\n",
       "      <td>None</td>\n",
       "      <td>0.15</td>\n",
       "      <td>0.00</td>\n",
       "    </tr>\n",
       "    <tr>\n",
       "      <th>1150881023</th>\n",
       "      <td>2022-03-10</td>\n",
       "      <td>15:17:10</td>\n",
       "      <td>Vadims ($23.52)</td>\n",
       "      <td>yahiindahouse ($24.62)</td>\n",
       "      <td>Fgawarenu ($12.94)</td>\n",
       "      <td>LO0S3R ($22.53)</td>\n",
       "      <td>MarkesanMike ($9.74)</td>\n",
       "      <td>whyraise ($38.58)</td>\n",
       "      <td>4d 4c</td>\n",
       "      <td>LO0S3R folds</td>\n",
       "      <td>MarkesanMike folds</td>\n",
       "      <td>whyraise raises $0.25 to $0.25</td>\n",
       "      <td>Vadims calls $0.25</td>\n",
       "      <td>yahiindahouse folds</td>\n",
       "      <td>Fgawarenu folds</td>\n",
       "      <td>Qc 6s 9s</td>\n",
       "      <td>Qc 6s 9s 2c</td>\n",
       "      <td>0.62</td>\n",
       "      <td>0.03</td>\n",
       "    </tr>\n",
       "    <tr>\n",
       "      <th>1150881025</th>\n",
       "      <td>2022-03-10</td>\n",
       "      <td>15:17:10</td>\n",
       "      <td>oO00Oo ($10.00)</td>\n",
       "      <td>Vadims ($18.93)</td>\n",
       "      <td>HillBelly ($7.66)</td>\n",
       "      <td>apeaces ($10.43)</td>\n",
       "      <td>prib ($23.63)</td>\n",
       "      <td>Dieselme ($12.19)</td>\n",
       "      <td>3h Qd</td>\n",
       "      <td>apeaces folds</td>\n",
       "      <td>prib calls $0.10</td>\n",
       "      <td>Dieselme folds</td>\n",
       "      <td>oO00Oo folds</td>\n",
       "      <td>Vadims folds</td>\n",
       "      <td>HillBelly checks</td>\n",
       "      <td>3d Jc 2s</td>\n",
       "      <td>3d Jc 2s 4d</td>\n",
       "      <td>0.24</td>\n",
       "      <td>0.01</td>\n",
       "    </tr>\n",
       "    <tr>\n",
       "      <th>1150881151</th>\n",
       "      <td>2022-03-10</td>\n",
       "      <td>15:17:26</td>\n",
       "      <td>Vadims ($18.88)</td>\n",
       "      <td>LO0S3R ($22.53)</td>\n",
       "      <td>oO00Oo ($11.09)</td>\n",
       "      <td>stackshady ($12.52)</td>\n",
       "      <td>EugeneBasegame ($10.15)</td>\n",
       "      <td>chrisbee11 ($7.73)</td>\n",
       "      <td>5h Kc</td>\n",
       "      <td>stackshady folds</td>\n",
       "      <td>EugeneBasegame raises $0.20 to $0.20</td>\n",
       "      <td>chrisbee11 calls $0.20</td>\n",
       "      <td>Vadims folds</td>\n",
       "      <td>LO0S3R folds</td>\n",
       "      <td>oO00Oo folds</td>\n",
       "      <td>4h Ks Jc</td>\n",
       "      <td>4h Ks Jc 6c</td>\n",
       "      <td>0.53</td>\n",
       "      <td>0.02</td>\n",
       "    </tr>\n",
       "  </tbody>\n",
       "</table>\n",
       "</div>"
      ],
      "text/plain": [
       "            hand_date hand_time              btn                      sb  \\\n",
       "hand_num                                                                   \n",
       "1150880976 2022-03-10  15:17:05  Vadims ($19.83)         JD2787 ($10.84)   \n",
       "1150880987 2022-03-10  15:17:06  Woods1 ($27.30)      Fgawarenu ($16.74)   \n",
       "1150881023 2022-03-10  15:17:10  Vadims ($23.52)  yahiindahouse ($24.62)   \n",
       "1150881025 2022-03-10  15:17:10  oO00Oo ($10.00)         Vadims ($18.93)   \n",
       "1150881151 2022-03-10  15:17:26  Vadims ($18.88)         LO0S3R ($22.53)   \n",
       "\n",
       "                                bb                  utg  \\\n",
       "hand_num                                                  \n",
       "1150880976  decadegolfpro ($10.00)   SimplySam ($24.77)   \n",
       "1150880987    MNE_NALEZET ($11.25)      Vadims ($18.93)   \n",
       "1150881023      Fgawarenu ($12.94)      LO0S3R ($22.53)   \n",
       "1150881025       HillBelly ($7.66)     apeaces ($10.43)   \n",
       "1150881151         oO00Oo ($11.09)  stackshady ($12.52)   \n",
       "\n",
       "                                 mp                  co hole_cards  \\\n",
       "hand_num                                                             \n",
       "1150880976     BlackSabbat ($10.00)   EnNoctem ($10.38)      Ad Ks   \n",
       "1150880987      ottibott93 ($18.80)     LO0S3R ($22.53)      3h 2c   \n",
       "1150881023     MarkesanMike ($9.74)   whyraise ($38.58)      4d 4c   \n",
       "1150881025            prib ($23.63)   Dieselme ($12.19)      3h Qd   \n",
       "1150881151  EugeneBasegame ($10.15)  chrisbee11 ($7.73)      5h Kc   \n",
       "\n",
       "           preflop_action_utg                     preflop_action_mp  \\\n",
       "hand_num                                                              \n",
       "1150880976    SimplySam folds                     BlackSabbat folds   \n",
       "1150880987       Vadims folds                      ottibott93 folds   \n",
       "1150881023       LO0S3R folds                    MarkesanMike folds   \n",
       "1150881025      apeaces folds                      prib calls $0.10   \n",
       "1150881151   stackshady folds  EugeneBasegame raises $0.20 to $0.20   \n",
       "\n",
       "                         preflop_action_co            preflop_action_btn  \\\n",
       "hand_num                                                                   \n",
       "1150880976  EnNoctem raises $0.25 to $0.25  Vadims raises $0.69 to $0.69   \n",
       "1150880987                    LO0S3R folds                  Woods1 folds   \n",
       "1150881023  whyraise raises $0.25 to $0.25            Vadims calls $0.25   \n",
       "1150881025                  Dieselme folds                  oO00Oo folds   \n",
       "1150881151          chrisbee11 calls $0.20                  Vadims folds   \n",
       "\n",
       "              preflop_action_sb          preflop_action_bb      flop  \\\n",
       "hand_num                                                               \n",
       "1150880976         JD2787 folds        decadegolfpro folds  5s 5c 6s   \n",
       "1150880987      Fgawarenu folds  MNE_NALEZET does not show      None   \n",
       "1150881023  yahiindahouse folds            Fgawarenu folds  Qc 6s 9s   \n",
       "1150881025         Vadims folds           HillBelly checks  3d Jc 2s   \n",
       "1150881151         LO0S3R folds               oO00Oo folds  4h Ks Jc   \n",
       "\n",
       "                     board  total_pot  rake  \n",
       "hand_num                                     \n",
       "1150880976  5s 5c 6s 6h Qh       3.45  0.12  \n",
       "1150880987            None       0.15  0.00  \n",
       "1150881023     Qc 6s 9s 2c       0.62  0.03  \n",
       "1150881025     3d Jc 2s 4d       0.24  0.01  \n",
       "1150881151     4h Ks Jc 6c       0.53  0.02  "
      ]
     },
     "execution_count": 80,
     "metadata": {},
     "output_type": "execute_result"
    }
   ],
   "source": [
    "wpn_blitz = wpn_blitz.set_index('hand_num')\n",
    "wpn_blitz.head()"
   ]
  },
  {
   "cell_type": "code",
   "execution_count": 82,
   "id": "0d60becc",
   "metadata": {},
   "outputs": [],
   "source": [
    "#CSV DataBase creation\n",
    "wpn_blitz.to_csv('wpn_blitz_10nl.csv')"
   ]
  },
  {
   "cell_type": "code",
   "execution_count": null,
   "id": "ca394b7e",
   "metadata": {},
   "outputs": [],
   "source": []
  }
 ],
 "metadata": {
  "kernelspec": {
   "display_name": "Python 3 (ipykernel)",
   "language": "python",
   "name": "python3"
  },
  "language_info": {
   "codemirror_mode": {
    "name": "ipython",
    "version": 3
   },
   "file_extension": ".py",
   "mimetype": "text/x-python",
   "name": "python",
   "nbconvert_exporter": "python",
   "pygments_lexer": "ipython3",
   "version": "3.9.7"
  }
 },
 "nbformat": 4,
 "nbformat_minor": 5
}
